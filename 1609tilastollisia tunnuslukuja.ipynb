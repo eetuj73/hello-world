{
 "cells": [
  {
   "cell_type": "code",
   "execution_count": 1,
   "metadata": {},
   "outputs": [],
   "source": [
    "import pandas as pd\n",
    "import matplotlib.pyplot as plt\n",
    "import seaborn as sns\n",
    "%matplotlib inline\n",
    "\n",
    "plt.style.use('seaborn-whitegrid')"
   ]
  },
  {
   "cell_type": "code",
   "execution_count": 2,
   "metadata": {},
   "outputs": [
    {
     "data": {
      "text/plain": [
       "['bmh',\n",
       " 'classic',\n",
       " 'dark_background',\n",
       " 'fast',\n",
       " 'fivethirtyeight',\n",
       " 'ggplot',\n",
       " 'grayscale',\n",
       " 'seaborn-bright',\n",
       " 'seaborn-colorblind',\n",
       " 'seaborn-dark-palette',\n",
       " 'seaborn-dark',\n",
       " 'seaborn-darkgrid',\n",
       " 'seaborn-deep',\n",
       " 'seaborn-muted',\n",
       " 'seaborn-notebook',\n",
       " 'seaborn-paper',\n",
       " 'seaborn-pastel',\n",
       " 'seaborn-poster',\n",
       " 'seaborn-talk',\n",
       " 'seaborn-ticks',\n",
       " 'seaborn-white',\n",
       " 'seaborn-whitegrid',\n",
       " 'seaborn',\n",
       " 'Solarize_Light2',\n",
       " 'tableau-colorblind10',\n",
       " '_classic_test']"
      ]
     },
     "execution_count": 2,
     "metadata": {},
     "output_type": "execute_result"
    }
   ],
   "source": [
    "plt.style.available"
   ]
  },
  {
   "cell_type": "code",
   "execution_count": 3,
   "metadata": {},
   "outputs": [
    {
     "data": {
      "text/html": [
       "<div>\n",
       "<style scoped>\n",
       "    .dataframe tbody tr th:only-of-type {\n",
       "        vertical-align: middle;\n",
       "    }\n",
       "\n",
       "    .dataframe tbody tr th {\n",
       "        vertical-align: top;\n",
       "    }\n",
       "\n",
       "    .dataframe thead th {\n",
       "        text-align: right;\n",
       "    }\n",
       "</style>\n",
       "<table border=\"1\" class=\"dataframe\">\n",
       "  <thead>\n",
       "    <tr style=\"text-align: right;\">\n",
       "      <th></th>\n",
       "      <th>total_bill</th>\n",
       "      <th>tip</th>\n",
       "      <th>sex</th>\n",
       "      <th>smoker</th>\n",
       "      <th>day</th>\n",
       "      <th>time</th>\n",
       "      <th>size</th>\n",
       "    </tr>\n",
       "  </thead>\n",
       "  <tbody>\n",
       "    <tr>\n",
       "      <th>0</th>\n",
       "      <td>16.99</td>\n",
       "      <td>1.01</td>\n",
       "      <td>Female</td>\n",
       "      <td>No</td>\n",
       "      <td>Sun</td>\n",
       "      <td>Dinner</td>\n",
       "      <td>2</td>\n",
       "    </tr>\n",
       "    <tr>\n",
       "      <th>1</th>\n",
       "      <td>10.34</td>\n",
       "      <td>1.66</td>\n",
       "      <td>Male</td>\n",
       "      <td>No</td>\n",
       "      <td>Sun</td>\n",
       "      <td>Dinner</td>\n",
       "      <td>3</td>\n",
       "    </tr>\n",
       "    <tr>\n",
       "      <th>2</th>\n",
       "      <td>21.01</td>\n",
       "      <td>3.50</td>\n",
       "      <td>Male</td>\n",
       "      <td>No</td>\n",
       "      <td>Sun</td>\n",
       "      <td>Dinner</td>\n",
       "      <td>3</td>\n",
       "    </tr>\n",
       "    <tr>\n",
       "      <th>3</th>\n",
       "      <td>23.68</td>\n",
       "      <td>3.31</td>\n",
       "      <td>Male</td>\n",
       "      <td>No</td>\n",
       "      <td>Sun</td>\n",
       "      <td>Dinner</td>\n",
       "      <td>2</td>\n",
       "    </tr>\n",
       "    <tr>\n",
       "      <th>4</th>\n",
       "      <td>24.59</td>\n",
       "      <td>3.61</td>\n",
       "      <td>Female</td>\n",
       "      <td>No</td>\n",
       "      <td>Sun</td>\n",
       "      <td>Dinner</td>\n",
       "      <td>4</td>\n",
       "    </tr>\n",
       "  </tbody>\n",
       "</table>\n",
       "</div>"
      ],
      "text/plain": [
       "   total_bill   tip     sex smoker  day    time  size\n",
       "0       16.99  1.01  Female     No  Sun  Dinner     2\n",
       "1       10.34  1.66    Male     No  Sun  Dinner     3\n",
       "2       21.01  3.50    Male     No  Sun  Dinner     3\n",
       "3       23.68  3.31    Male     No  Sun  Dinner     2\n",
       "4       24.59  3.61  Female     No  Sun  Dinner     4"
      ]
     },
     "execution_count": 3,
     "metadata": {},
     "output_type": "execute_result"
    }
   ],
   "source": [
    "tips = sns.load_dataset('tips')\n",
    "tips.head()"
   ]
  },
  {
   "cell_type": "code",
   "execution_count": 4,
   "metadata": {},
   "outputs": [
    {
     "data": {
      "text/plain": [
       "<matplotlib.axes._subplots.AxesSubplot at 0x1c6949c7748>"
      ]
     },
     "execution_count": 4,
     "metadata": {},
     "output_type": "execute_result"
    },
    {
     "data": {
      "image/png": "[encoded data removed]",
      "text/plain": [
       "<Figure size 432x288 with 1 Axes>"
      ]
     },
     "metadata": {
      "needs_background": "light"
     },
     "output_type": "display_data"
    }
   ],
   "source": [
    "sns.distplot(a=tips['total_bill'].dropna(), bins=[0,10,20,30,40,50,60])"
   ]
  },
  {
   "cell_type": "code",
   "execution_count": 5,
   "metadata": {},
   "outputs": [
    {
     "data": {
      "text/plain": [
       "<matplotlib.axes._subplots.AxesSubplot at 0x1c694cbd320>"
      ]
     },
     "execution_count": 5,
     "metadata": {},
     "output_type": "execute_result"
    },
    {
     "data": {
      "image/png": "[encoded data removed]",
      "text/plain": [
       "<Figure size 432x288 with 1 Axes>"
      ]
     },
     "metadata": {
      "needs_background": "light"
     },
     "output_type": "display_data"
    }
   ],
   "source": [
    "sns.distplot(a=tips['tip'].dropna(), bins=[0,2,4,6,8,10], kde=False, rug=True)"
   ]
  },
  {
   "cell_type": "code",
   "execution_count": 6,
   "metadata": {},
   "outputs": [
    {
     "data": {
      "text/plain": [
       "<matplotlib.axes._subplots.AxesSubplot at 0x1c695d1acf8>"
      ]
     },
     "execution_count": 6,
     "metadata": {},
     "output_type": "execute_result"
    },
    {
     "data": {
      "image/png": "[encoded data removed]",
      "text/plain": [
       "<Figure size 432x288 with 1 Axes>"
      ]
     },
     "metadata": {
      "needs_background": "light"
     },
     "output_type": "display_data"
    }
   ],
   "source": [
    "sns.boxplot(x='size', y='tip', hue='sex', data=tips)"
   ]
  },
  {
   "cell_type": "code",
   "execution_count": 7,
   "metadata": {},
   "outputs": [],
   "source": [
    "import pandas as pd\n",
    "import numpy as np\n",
    "import matplotlib.pyplot as plt\n",
    "%matplotlib inline"
   ]
  },
  {
   "cell_type": "code",
   "execution_count": 8,
   "metadata": {},
   "outputs": [
    {
     "data": {
      "text/html": [
       "<div>\n",
       "<style scoped>\n",
       "    .dataframe tbody tr th:only-of-type {\n",
       "        vertical-align: middle;\n",
       "    }\n",
       "\n",
       "    .dataframe tbody tr th {\n",
       "        vertical-align: top;\n",
       "    }\n",
       "\n",
       "    .dataframe thead th {\n",
       "        text-align: right;\n",
       "    }\n",
       "</style>\n",
       "<table border=\"1\" class=\"dataframe\">\n",
       "  <thead>\n",
       "    <tr style=\"text-align: right;\">\n",
       "      <th></th>\n",
       "      <th>nro</th>\n",
       "      <th>sukup</th>\n",
       "      <th>ikä</th>\n",
       "      <th>perhe</th>\n",
       "      <th>koulutus</th>\n",
       "      <th>palveluv</th>\n",
       "      <th>palkka</th>\n",
       "      <th>johto</th>\n",
       "      <th>työtov</th>\n",
       "      <th>työymp</th>\n",
       "      <th>palkkat</th>\n",
       "      <th>työteht</th>\n",
       "      <th>työterv</th>\n",
       "      <th>lomaosa</th>\n",
       "      <th>kuntosa</th>\n",
       "      <th>hieroja</th>\n",
       "    </tr>\n",
       "  </thead>\n",
       "  <tbody>\n",
       "    <tr>\n",
       "      <th>0</th>\n",
       "      <td>1</td>\n",
       "      <td>1</td>\n",
       "      <td>38</td>\n",
       "      <td>1</td>\n",
       "      <td>1.0</td>\n",
       "      <td>22.0</td>\n",
       "      <td>3587</td>\n",
       "      <td>3</td>\n",
       "      <td>3.0</td>\n",
       "      <td>3</td>\n",
       "      <td>3</td>\n",
       "      <td>3</td>\n",
       "      <td>NaN</td>\n",
       "      <td>NaN</td>\n",
       "      <td>NaN</td>\n",
       "      <td>NaN</td>\n",
       "    </tr>\n",
       "    <tr>\n",
       "      <th>1</th>\n",
       "      <td>2</td>\n",
       "      <td>1</td>\n",
       "      <td>29</td>\n",
       "      <td>2</td>\n",
       "      <td>2.0</td>\n",
       "      <td>10.0</td>\n",
       "      <td>2963</td>\n",
       "      <td>1</td>\n",
       "      <td>5.0</td>\n",
       "      <td>2</td>\n",
       "      <td>1</td>\n",
       "      <td>3</td>\n",
       "      <td>NaN</td>\n",
       "      <td>NaN</td>\n",
       "      <td>NaN</td>\n",
       "      <td>NaN</td>\n",
       "    </tr>\n",
       "    <tr>\n",
       "      <th>2</th>\n",
       "      <td>3</td>\n",
       "      <td>1</td>\n",
       "      <td>30</td>\n",
       "      <td>1</td>\n",
       "      <td>1.0</td>\n",
       "      <td>7.0</td>\n",
       "      <td>1989</td>\n",
       "      <td>3</td>\n",
       "      <td>4.0</td>\n",
       "      <td>1</td>\n",
       "      <td>1</td>\n",
       "      <td>3</td>\n",
       "      <td>1.0</td>\n",
       "      <td>NaN</td>\n",
       "      <td>NaN</td>\n",
       "      <td>NaN</td>\n",
       "    </tr>\n",
       "    <tr>\n",
       "      <th>3</th>\n",
       "      <td>4</td>\n",
       "      <td>1</td>\n",
       "      <td>36</td>\n",
       "      <td>2</td>\n",
       "      <td>1.0</td>\n",
       "      <td>14.0</td>\n",
       "      <td>2144</td>\n",
       "      <td>3</td>\n",
       "      <td>3.0</td>\n",
       "      <td>3</td>\n",
       "      <td>3</td>\n",
       "      <td>3</td>\n",
       "      <td>1.0</td>\n",
       "      <td>NaN</td>\n",
       "      <td>NaN</td>\n",
       "      <td>NaN</td>\n",
       "    </tr>\n",
       "    <tr>\n",
       "      <th>4</th>\n",
       "      <td>5</td>\n",
       "      <td>1</td>\n",
       "      <td>24</td>\n",
       "      <td>1</td>\n",
       "      <td>2.0</td>\n",
       "      <td>4.0</td>\n",
       "      <td>2183</td>\n",
       "      <td>2</td>\n",
       "      <td>3.0</td>\n",
       "      <td>2</td>\n",
       "      <td>1</td>\n",
       "      <td>2</td>\n",
       "      <td>1.0</td>\n",
       "      <td>NaN</td>\n",
       "      <td>NaN</td>\n",
       "      <td>NaN</td>\n",
       "    </tr>\n",
       "  </tbody>\n",
       "</table>\n",
       "</div>"
      ],
      "text/plain": [
       "   nro  sukup  ikä  perhe  koulutus  palveluv  palkka  johto  työtov  työymp  \\\n",
       "0    1      1   38      1       1.0      22.0    3587      3     3.0       3   \n",
       "1    2      1   29      2       2.0      10.0    2963      1     5.0       2   \n",
       "2    3      1   30      1       1.0       7.0    1989      3     4.0       1   \n",
       "3    4      1   36      2       1.0      14.0    2144      3     3.0       3   \n",
       "4    5      1   24      1       2.0       4.0    2183      2     3.0       2   \n",
       "\n",
       "   palkkat  työteht  työterv  lomaosa  kuntosa  hieroja  \n",
       "0        3        3      NaN      NaN      NaN      NaN  \n",
       "1        1        3      NaN      NaN      NaN      NaN  \n",
       "2        1        3      1.0      NaN      NaN      NaN  \n",
       "3        3        3      1.0      NaN      NaN      NaN  \n",
       "4        1        2      1.0      NaN      NaN      NaN  "
      ]
     },
     "execution_count": 8,
     "metadata": {},
     "output_type": "execute_result"
    }
   ],
   "source": [
    "df = pd.read_excel('http://taanila.fi/data1.xlsx')\n",
    "df.head()"
   ]
  },
  {
   "cell_type": "code",
   "execution_count": 9,
   "metadata": {},
   "outputs": [],
   "source": [
    "koulutus = ['Peruskoulu', '2. aste', 'Korkeakoulu', 'Ylempi korkeakoulu']\n",
    "perhe = ['Perheetön', 'Perheellinen']\n",
    "sukup = ['Mies', 'Nainen']"
   ]
  },
  {
   "cell_type": "code",
   "execution_count": 10,
   "metadata": {},
   "outputs": [
    {
     "data": {
      "text/html": [
       "<div>\n",
       "<style scoped>\n",
       "    .dataframe tbody tr th:only-of-type {\n",
       "        vertical-align: middle;\n",
       "    }\n",
       "\n",
       "    .dataframe tbody tr th {\n",
       "        vertical-align: top;\n",
       "    }\n",
       "\n",
       "    .dataframe thead th {\n",
       "        text-align: right;\n",
       "    }\n",
       "</style>\n",
       "<table border=\"1\" class=\"dataframe\">\n",
       "  <thead>\n",
       "    <tr style=\"text-align: right;\">\n",
       "      <th></th>\n",
       "      <th>nro</th>\n",
       "      <th>sukup</th>\n",
       "      <th>ikä</th>\n",
       "      <th>perhe</th>\n",
       "      <th>koulutus</th>\n",
       "      <th>palveluv</th>\n",
       "      <th>palkka</th>\n",
       "      <th>johto</th>\n",
       "      <th>työtov</th>\n",
       "      <th>työymp</th>\n",
       "      <th>palkkat</th>\n",
       "      <th>työteht</th>\n",
       "      <th>työterv</th>\n",
       "      <th>lomaosa</th>\n",
       "      <th>kuntosa</th>\n",
       "      <th>hieroja</th>\n",
       "    </tr>\n",
       "  </thead>\n",
       "  <tbody>\n",
       "    <tr>\n",
       "      <th>count</th>\n",
       "      <td>82.000000</td>\n",
       "      <td>82.000000</td>\n",
       "      <td>82.000000</td>\n",
       "      <td>82.000000</td>\n",
       "      <td>81.000000</td>\n",
       "      <td>80.000000</td>\n",
       "      <td>82.000000</td>\n",
       "      <td>82.000000</td>\n",
       "      <td>81.000000</td>\n",
       "      <td>82.000000</td>\n",
       "      <td>82.000000</td>\n",
       "      <td>82.000000</td>\n",
       "      <td>47.0</td>\n",
       "      <td>20.0</td>\n",
       "      <td>9.0</td>\n",
       "      <td>22.0</td>\n",
       "    </tr>\n",
       "    <tr>\n",
       "      <th>mean</th>\n",
       "      <td>41.500000</td>\n",
       "      <td>1.231707</td>\n",
       "      <td>37.951220</td>\n",
       "      <td>1.621951</td>\n",
       "      <td>1.987654</td>\n",
       "      <td>12.175000</td>\n",
       "      <td>2563.878049</td>\n",
       "      <td>3.060976</td>\n",
       "      <td>4.061728</td>\n",
       "      <td>3.219512</td>\n",
       "      <td>2.109756</td>\n",
       "      <td>3.195122</td>\n",
       "      <td>1.0</td>\n",
       "      <td>1.0</td>\n",
       "      <td>1.0</td>\n",
       "      <td>1.0</td>\n",
       "    </tr>\n",
       "    <tr>\n",
       "      <th>std</th>\n",
       "      <td>23.815261</td>\n",
       "      <td>0.424519</td>\n",
       "      <td>9.773866</td>\n",
       "      <td>0.487884</td>\n",
       "      <td>0.844006</td>\n",
       "      <td>8.807038</td>\n",
       "      <td>849.350302</td>\n",
       "      <td>1.058155</td>\n",
       "      <td>0.826826</td>\n",
       "      <td>1.154961</td>\n",
       "      <td>1.111179</td>\n",
       "      <td>1.047502</td>\n",
       "      <td>0.0</td>\n",
       "      <td>0.0</td>\n",
       "      <td>0.0</td>\n",
       "      <td>0.0</td>\n",
       "    </tr>\n",
       "    <tr>\n",
       "      <th>min</th>\n",
       "      <td>1.000000</td>\n",
       "      <td>1.000000</td>\n",
       "      <td>20.000000</td>\n",
       "      <td>1.000000</td>\n",
       "      <td>1.000000</td>\n",
       "      <td>0.000000</td>\n",
       "      <td>1521.000000</td>\n",
       "      <td>1.000000</td>\n",
       "      <td>2.000000</td>\n",
       "      <td>1.000000</td>\n",
       "      <td>1.000000</td>\n",
       "      <td>1.000000</td>\n",
       "      <td>1.0</td>\n",
       "      <td>1.0</td>\n",
       "      <td>1.0</td>\n",
       "      <td>1.0</td>\n",
       "    </tr>\n",
       "    <tr>\n",
       "      <th>25%</th>\n",
       "      <td>21.250000</td>\n",
       "      <td>1.000000</td>\n",
       "      <td>31.000000</td>\n",
       "      <td>1.000000</td>\n",
       "      <td>1.000000</td>\n",
       "      <td>3.750000</td>\n",
       "      <td>2027.000000</td>\n",
       "      <td>2.000000</td>\n",
       "      <td>4.000000</td>\n",
       "      <td>3.000000</td>\n",
       "      <td>1.000000</td>\n",
       "      <td>3.000000</td>\n",
       "      <td>1.0</td>\n",
       "      <td>1.0</td>\n",
       "      <td>1.0</td>\n",
       "      <td>1.0</td>\n",
       "    </tr>\n",
       "    <tr>\n",
       "      <th>50%</th>\n",
       "      <td>41.500000</td>\n",
       "      <td>1.000000</td>\n",
       "      <td>37.500000</td>\n",
       "      <td>2.000000</td>\n",
       "      <td>2.000000</td>\n",
       "      <td>12.500000</td>\n",
       "      <td>2320.000000</td>\n",
       "      <td>3.000000</td>\n",
       "      <td>4.000000</td>\n",
       "      <td>3.000000</td>\n",
       "      <td>2.000000</td>\n",
       "      <td>3.000000</td>\n",
       "      <td>1.0</td>\n",
       "      <td>1.0</td>\n",
       "      <td>1.0</td>\n",
       "      <td>1.0</td>\n",
       "    </tr>\n",
       "    <tr>\n",
       "      <th>75%</th>\n",
       "      <td>61.750000</td>\n",
       "      <td>1.000000</td>\n",
       "      <td>44.000000</td>\n",
       "      <td>2.000000</td>\n",
       "      <td>3.000000</td>\n",
       "      <td>18.250000</td>\n",
       "      <td>2808.000000</td>\n",
       "      <td>4.000000</td>\n",
       "      <td>5.000000</td>\n",
       "      <td>4.000000</td>\n",
       "      <td>3.000000</td>\n",
       "      <td>4.000000</td>\n",
       "      <td>1.0</td>\n",
       "      <td>1.0</td>\n",
       "      <td>1.0</td>\n",
       "      <td>1.0</td>\n",
       "    </tr>\n",
       "    <tr>\n",
       "      <th>max</th>\n",
       "      <td>82.000000</td>\n",
       "      <td>2.000000</td>\n",
       "      <td>61.000000</td>\n",
       "      <td>2.000000</td>\n",
       "      <td>4.000000</td>\n",
       "      <td>36.000000</td>\n",
       "      <td>6278.000000</td>\n",
       "      <td>5.000000</td>\n",
       "      <td>5.000000</td>\n",
       "      <td>5.000000</td>\n",
       "      <td>5.000000</td>\n",
       "      <td>5.000000</td>\n",
       "      <td>1.0</td>\n",
       "      <td>1.0</td>\n",
       "      <td>1.0</td>\n",
       "      <td>1.0</td>\n",
       "    </tr>\n",
       "  </tbody>\n",
       "</table>\n",
       "</div>"
      ],
      "text/plain": [
       "             nro      sukup        ikä      perhe   koulutus   palveluv  \\\n",
       "count  82.000000  82.000000  82.000000  82.000000  81.000000  80.000000   \n",
       "mean   41.500000   1.231707  37.951220   1.621951   1.987654  12.175000   \n",
       "std    23.815261   0.424519   9.773866   0.487884   0.844006   8.807038   \n",
       "min     1.000000   1.000000  20.000000   1.000000   1.000000   0.000000   \n",
       "25%    21.250000   1.000000  31.000000   1.000000   1.000000   3.750000   \n",
       "50%    41.500000   1.000000  37.500000   2.000000   2.000000  12.500000   \n",
       "75%    61.750000   1.000000  44.000000   2.000000   3.000000  18.250000   \n",
       "max    82.000000   2.000000  61.000000   2.000000   4.000000  36.000000   \n",
       "\n",
       "            palkka      johto     työtov     työymp    palkkat    työteht  \\\n",
       "count    82.000000  82.000000  81.000000  82.000000  82.000000  82.000000   \n",
       "mean   2563.878049   3.060976   4.061728   3.219512   2.109756   3.195122   \n",
       "std     849.350302   1.058155   0.826826   1.154961   1.111179   1.047502   \n",
       "min    1521.000000   1.000000   2.000000   1.000000   1.000000   1.000000   \n",
       "25%    2027.000000   2.000000   4.000000   3.000000   1.000000   3.000000   \n",
       "50%    2320.000000   3.000000   4.000000   3.000000   2.000000   3.000000   \n",
       "75%    2808.000000   4.000000   5.000000   4.000000   3.000000   4.000000   \n",
       "max    6278.000000   5.000000   5.000000   5.000000   5.000000   5.000000   \n",
       "\n",
       "       työterv  lomaosa  kuntosa  hieroja  \n",
       "count     47.0     20.0      9.0     22.0  \n",
       "mean       1.0      1.0      1.0      1.0  \n",
       "std        0.0      0.0      0.0      0.0  \n",
       "min        1.0      1.0      1.0      1.0  \n",
       "25%        1.0      1.0      1.0      1.0  \n",
       "50%        1.0      1.0      1.0      1.0  \n",
       "75%        1.0      1.0      1.0      1.0  \n",
       "max        1.0      1.0      1.0      1.0  "
      ]
     },
     "execution_count": 10,
     "metadata": {},
     "output_type": "execute_result"
    }
   ],
   "source": [
    "df.describe()"
   ]
  },
  {
   "cell_type": "code",
   "execution_count": 11,
   "metadata": {},
   "outputs": [
    {
     "data": {
      "text/html": [
       "<style  type=\"text/css\" >\n",
       "</style><table id=\"T_16de7c74_d94a_11e9_8f8b_98e7f4be7341\" ><thead>    <tr>        <th class=\"blank level0\" ></th>        <th class=\"col_heading level0 col0\" >ikä</th>        <th class=\"col_heading level0 col1\" >palveluv</th>        <th class=\"col_heading level0 col2\" >palkka</th>        <th class=\"col_heading level0 col3\" >johto</th>        <th class=\"col_heading level0 col4\" >työtov</th>        <th class=\"col_heading level0 col5\" >työymp</th>        <th class=\"col_heading level0 col6\" >palkkat</th>        <th class=\"col_heading level0 col7\" >työteht</th>    </tr></thead><tbody>\n",
       "                <tr>\n",
       "                        <th id=\"T_16de7c74_d94a_11e9_8f8b_98e7f4be7341level0_row0\" class=\"row_heading level0 row0\" >count</th>\n",
       "                        <td id=\"T_16de7c74_d94a_11e9_8f8b_98e7f4be7341row0_col0\" class=\"data row0 col0\" >82.00 </td>\n",
       "                        <td id=\"T_16de7c74_d94a_11e9_8f8b_98e7f4be7341row0_col1\" class=\"data row0 col1\" >80.00 </td>\n",
       "                        <td id=\"T_16de7c74_d94a_11e9_8f8b_98e7f4be7341row0_col2\" class=\"data row0 col2\" >82.00 </td>\n",
       "                        <td id=\"T_16de7c74_d94a_11e9_8f8b_98e7f4be7341row0_col3\" class=\"data row0 col3\" >82.00 </td>\n",
       "                        <td id=\"T_16de7c74_d94a_11e9_8f8b_98e7f4be7341row0_col4\" class=\"data row0 col4\" >81.00 </td>\n",
       "                        <td id=\"T_16de7c74_d94a_11e9_8f8b_98e7f4be7341row0_col5\" class=\"data row0 col5\" >82.00 </td>\n",
       "                        <td id=\"T_16de7c74_d94a_11e9_8f8b_98e7f4be7341row0_col6\" class=\"data row0 col6\" >82.00 </td>\n",
       "                        <td id=\"T_16de7c74_d94a_11e9_8f8b_98e7f4be7341row0_col7\" class=\"data row0 col7\" >82.00 </td>\n",
       "            </tr>\n",
       "            <tr>\n",
       "                        <th id=\"T_16de7c74_d94a_11e9_8f8b_98e7f4be7341level0_row1\" class=\"row_heading level0 row1\" >mean</th>\n",
       "                        <td id=\"T_16de7c74_d94a_11e9_8f8b_98e7f4be7341row1_col0\" class=\"data row1 col0\" >37.95 </td>\n",
       "                        <td id=\"T_16de7c74_d94a_11e9_8f8b_98e7f4be7341row1_col1\" class=\"data row1 col1\" >12.18 </td>\n",
       "                        <td id=\"T_16de7c74_d94a_11e9_8f8b_98e7f4be7341row1_col2\" class=\"data row1 col2\" >2563.88 </td>\n",
       "                        <td id=\"T_16de7c74_d94a_11e9_8f8b_98e7f4be7341row1_col3\" class=\"data row1 col3\" >3.06 </td>\n",
       "                        <td id=\"T_16de7c74_d94a_11e9_8f8b_98e7f4be7341row1_col4\" class=\"data row1 col4\" >4.06 </td>\n",
       "                        <td id=\"T_16de7c74_d94a_11e9_8f8b_98e7f4be7341row1_col5\" class=\"data row1 col5\" >3.22 </td>\n",
       "                        <td id=\"T_16de7c74_d94a_11e9_8f8b_98e7f4be7341row1_col6\" class=\"data row1 col6\" >2.11 </td>\n",
       "                        <td id=\"T_16de7c74_d94a_11e9_8f8b_98e7f4be7341row1_col7\" class=\"data row1 col7\" >3.20 </td>\n",
       "            </tr>\n",
       "            <tr>\n",
       "                        <th id=\"T_16de7c74_d94a_11e9_8f8b_98e7f4be7341level0_row2\" class=\"row_heading level0 row2\" >std</th>\n",
       "                        <td id=\"T_16de7c74_d94a_11e9_8f8b_98e7f4be7341row2_col0\" class=\"data row2 col0\" >9.77 </td>\n",
       "                        <td id=\"T_16de7c74_d94a_11e9_8f8b_98e7f4be7341row2_col1\" class=\"data row2 col1\" >8.81 </td>\n",
       "                        <td id=\"T_16de7c74_d94a_11e9_8f8b_98e7f4be7341row2_col2\" class=\"data row2 col2\" >849.35 </td>\n",
       "                        <td id=\"T_16de7c74_d94a_11e9_8f8b_98e7f4be7341row2_col3\" class=\"data row2 col3\" >1.06 </td>\n",
       "                        <td id=\"T_16de7c74_d94a_11e9_8f8b_98e7f4be7341row2_col4\" class=\"data row2 col4\" >0.83 </td>\n",
       "                        <td id=\"T_16de7c74_d94a_11e9_8f8b_98e7f4be7341row2_col5\" class=\"data row2 col5\" >1.15 </td>\n",
       "                        <td id=\"T_16de7c74_d94a_11e9_8f8b_98e7f4be7341row2_col6\" class=\"data row2 col6\" >1.11 </td>\n",
       "                        <td id=\"T_16de7c74_d94a_11e9_8f8b_98e7f4be7341row2_col7\" class=\"data row2 col7\" >1.05 </td>\n",
       "            </tr>\n",
       "            <tr>\n",
       "                        <th id=\"T_16de7c74_d94a_11e9_8f8b_98e7f4be7341level0_row3\" class=\"row_heading level0 row3\" >min</th>\n",
       "                        <td id=\"T_16de7c74_d94a_11e9_8f8b_98e7f4be7341row3_col0\" class=\"data row3 col0\" >20.00 </td>\n",
       "                        <td id=\"T_16de7c74_d94a_11e9_8f8b_98e7f4be7341row3_col1\" class=\"data row3 col1\" >0.00 </td>\n",
       "                        <td id=\"T_16de7c74_d94a_11e9_8f8b_98e7f4be7341row3_col2\" class=\"data row3 col2\" >1521.00 </td>\n",
       "                        <td id=\"T_16de7c74_d94a_11e9_8f8b_98e7f4be7341row3_col3\" class=\"data row3 col3\" >1.00 </td>\n",
       "                        <td id=\"T_16de7c74_d94a_11e9_8f8b_98e7f4be7341row3_col4\" class=\"data row3 col4\" >2.00 </td>\n",
       "                        <td id=\"T_16de7c74_d94a_11e9_8f8b_98e7f4be7341row3_col5\" class=\"data row3 col5\" >1.00 </td>\n",
       "                        <td id=\"T_16de7c74_d94a_11e9_8f8b_98e7f4be7341row3_col6\" class=\"data row3 col6\" >1.00 </td>\n",
       "                        <td id=\"T_16de7c74_d94a_11e9_8f8b_98e7f4be7341row3_col7\" class=\"data row3 col7\" >1.00 </td>\n",
       "            </tr>\n",
       "            <tr>\n",
       "                        <th id=\"T_16de7c74_d94a_11e9_8f8b_98e7f4be7341level0_row4\" class=\"row_heading level0 row4\" >25%</th>\n",
       "                        <td id=\"T_16de7c74_d94a_11e9_8f8b_98e7f4be7341row4_col0\" class=\"data row4 col0\" >31.00 </td>\n",
       "                        <td id=\"T_16de7c74_d94a_11e9_8f8b_98e7f4be7341row4_col1\" class=\"data row4 col1\" >3.75 </td>\n",
       "                        <td id=\"T_16de7c74_d94a_11e9_8f8b_98e7f4be7341row4_col2\" class=\"data row4 col2\" >2027.00 </td>\n",
       "                        <td id=\"T_16de7c74_d94a_11e9_8f8b_98e7f4be7341row4_col3\" class=\"data row4 col3\" >2.00 </td>\n",
       "                        <td id=\"T_16de7c74_d94a_11e9_8f8b_98e7f4be7341row4_col4\" class=\"data row4 col4\" >4.00 </td>\n",
       "                        <td id=\"T_16de7c74_d94a_11e9_8f8b_98e7f4be7341row4_col5\" class=\"data row4 col5\" >3.00 </td>\n",
       "                        <td id=\"T_16de7c74_d94a_11e9_8f8b_98e7f4be7341row4_col6\" class=\"data row4 col6\" >1.00 </td>\n",
       "                        <td id=\"T_16de7c74_d94a_11e9_8f8b_98e7f4be7341row4_col7\" class=\"data row4 col7\" >3.00 </td>\n",
       "            </tr>\n",
       "            <tr>\n",
       "                        <th id=\"T_16de7c74_d94a_11e9_8f8b_98e7f4be7341level0_row5\" class=\"row_heading level0 row5\" >50%</th>\n",
       "                        <td id=\"T_16de7c74_d94a_11e9_8f8b_98e7f4be7341row5_col0\" class=\"data row5 col0\" >37.50 </td>\n",
       "                        <td id=\"T_16de7c74_d94a_11e9_8f8b_98e7f4be7341row5_col1\" class=\"data row5 col1\" >12.50 </td>\n",
       "                        <td id=\"T_16de7c74_d94a_11e9_8f8b_98e7f4be7341row5_col2\" class=\"data row5 col2\" >2320.00 </td>\n",
       "                        <td id=\"T_16de7c74_d94a_11e9_8f8b_98e7f4be7341row5_col3\" class=\"data row5 col3\" >3.00 </td>\n",
       "                        <td id=\"T_16de7c74_d94a_11e9_8f8b_98e7f4be7341row5_col4\" class=\"data row5 col4\" >4.00 </td>\n",
       "                        <td id=\"T_16de7c74_d94a_11e9_8f8b_98e7f4be7341row5_col5\" class=\"data row5 col5\" >3.00 </td>\n",
       "                        <td id=\"T_16de7c74_d94a_11e9_8f8b_98e7f4be7341row5_col6\" class=\"data row5 col6\" >2.00 </td>\n",
       "                        <td id=\"T_16de7c74_d94a_11e9_8f8b_98e7f4be7341row5_col7\" class=\"data row5 col7\" >3.00 </td>\n",
       "            </tr>\n",
       "            <tr>\n",
       "                        <th id=\"T_16de7c74_d94a_11e9_8f8b_98e7f4be7341level0_row6\" class=\"row_heading level0 row6\" >75%</th>\n",
       "                        <td id=\"T_16de7c74_d94a_11e9_8f8b_98e7f4be7341row6_col0\" class=\"data row6 col0\" >44.00 </td>\n",
       "                        <td id=\"T_16de7c74_d94a_11e9_8f8b_98e7f4be7341row6_col1\" class=\"data row6 col1\" >18.25 </td>\n",
       "                        <td id=\"T_16de7c74_d94a_11e9_8f8b_98e7f4be7341row6_col2\" class=\"data row6 col2\" >2808.00 </td>\n",
       "                        <td id=\"T_16de7c74_d94a_11e9_8f8b_98e7f4be7341row6_col3\" class=\"data row6 col3\" >4.00 </td>\n",
       "                        <td id=\"T_16de7c74_d94a_11e9_8f8b_98e7f4be7341row6_col4\" class=\"data row6 col4\" >5.00 </td>\n",
       "                        <td id=\"T_16de7c74_d94a_11e9_8f8b_98e7f4be7341row6_col5\" class=\"data row6 col5\" >4.00 </td>\n",
       "                        <td id=\"T_16de7c74_d94a_11e9_8f8b_98e7f4be7341row6_col6\" class=\"data row6 col6\" >3.00 </td>\n",
       "                        <td id=\"T_16de7c74_d94a_11e9_8f8b_98e7f4be7341row6_col7\" class=\"data row6 col7\" >4.00 </td>\n",
       "            </tr>\n",
       "            <tr>\n",
       "                        <th id=\"T_16de7c74_d94a_11e9_8f8b_98e7f4be7341level0_row7\" class=\"row_heading level0 row7\" >max</th>\n",
       "                        <td id=\"T_16de7c74_d94a_11e9_8f8b_98e7f4be7341row7_col0\" class=\"data row7 col0\" >61.00 </td>\n",
       "                        <td id=\"T_16de7c74_d94a_11e9_8f8b_98e7f4be7341row7_col1\" class=\"data row7 col1\" >36.00 </td>\n",
       "                        <td id=\"T_16de7c74_d94a_11e9_8f8b_98e7f4be7341row7_col2\" class=\"data row7 col2\" >6278.00 </td>\n",
       "                        <td id=\"T_16de7c74_d94a_11e9_8f8b_98e7f4be7341row7_col3\" class=\"data row7 col3\" >5.00 </td>\n",
       "                        <td id=\"T_16de7c74_d94a_11e9_8f8b_98e7f4be7341row7_col4\" class=\"data row7 col4\" >5.00 </td>\n",
       "                        <td id=\"T_16de7c74_d94a_11e9_8f8b_98e7f4be7341row7_col5\" class=\"data row7 col5\" >5.00 </td>\n",
       "                        <td id=\"T_16de7c74_d94a_11e9_8f8b_98e7f4be7341row7_col6\" class=\"data row7 col6\" >5.00 </td>\n",
       "                        <td id=\"T_16de7c74_d94a_11e9_8f8b_98e7f4be7341row7_col7\" class=\"data row7 col7\" >5.00 </td>\n",
       "            </tr>\n",
       "    </tbody></table>"
      ],
      "text/plain": [
       "<pandas.io.formats.style.Styler at 0x1c694cdcef0>"
      ]
     },
     "execution_count": 11,
     "metadata": {},
     "output_type": "execute_result"
    }
   ],
   "source": [
    "df[['ikä','palveluv', 'palkka', 'johto', 'työtov', 'työymp', 'palkkat',\n",
    "   'työteht']].describe().style.format('{:.2f} ')"
   ]
  },
  {
   "cell_type": "code",
   "execution_count": 12,
   "metadata": {},
   "outputs": [
    {
     "data": {
      "text/html": [
       "<style  type=\"text/css\" >\n",
       "</style><table id=\"T_16e0ddf4_d94a_11e9_999c_98e7f4be7341\" ><thead>    <tr>        <th class=\"blank level0\" ></th>        <th class=\"col_heading level0 col0\" >Mies</th>        <th class=\"col_heading level0 col1\" >Nainen</th>    </tr></thead><tbody>\n",
       "                <tr>\n",
       "                        <th id=\"T_16e0ddf4_d94a_11e9_999c_98e7f4be7341level0_row0\" class=\"row_heading level0 row0\" >count</th>\n",
       "                        <td id=\"T_16e0ddf4_d94a_11e9_999c_98e7f4be7341row0_col0\" class=\"data row0 col0\" >63</td>\n",
       "                        <td id=\"T_16e0ddf4_d94a_11e9_999c_98e7f4be7341row0_col1\" class=\"data row0 col1\" >19</td>\n",
       "            </tr>\n",
       "            <tr>\n",
       "                        <th id=\"T_16e0ddf4_d94a_11e9_999c_98e7f4be7341level0_row1\" class=\"row_heading level0 row1\" >mean</th>\n",
       "                        <td id=\"T_16e0ddf4_d94a_11e9_999c_98e7f4be7341row1_col0\" class=\"data row1 col0\" >2664</td>\n",
       "                        <td id=\"T_16e0ddf4_d94a_11e9_999c_98e7f4be7341row1_col1\" class=\"data row1 col1\" >2233</td>\n",
       "            </tr>\n",
       "            <tr>\n",
       "                        <th id=\"T_16e0ddf4_d94a_11e9_999c_98e7f4be7341level0_row2\" class=\"row_heading level0 row2\" >std</th>\n",
       "                        <td id=\"T_16e0ddf4_d94a_11e9_999c_98e7f4be7341row2_col0\" class=\"data row2 col0\" >930</td>\n",
       "                        <td id=\"T_16e0ddf4_d94a_11e9_999c_98e7f4be7341row2_col1\" class=\"data row2 col1\" >341</td>\n",
       "            </tr>\n",
       "            <tr>\n",
       "                        <th id=\"T_16e0ddf4_d94a_11e9_999c_98e7f4be7341level0_row3\" class=\"row_heading level0 row3\" >min</th>\n",
       "                        <td id=\"T_16e0ddf4_d94a_11e9_999c_98e7f4be7341row3_col0\" class=\"data row3 col0\" >1521</td>\n",
       "                        <td id=\"T_16e0ddf4_d94a_11e9_999c_98e7f4be7341row3_col1\" class=\"data row3 col1\" >1715</td>\n",
       "            </tr>\n",
       "            <tr>\n",
       "                        <th id=\"T_16e0ddf4_d94a_11e9_999c_98e7f4be7341level0_row4\" class=\"row_heading level0 row4\" >25%</th>\n",
       "                        <td id=\"T_16e0ddf4_d94a_11e9_999c_98e7f4be7341row4_col0\" class=\"data row4 col0\" >2086</td>\n",
       "                        <td id=\"T_16e0ddf4_d94a_11e9_999c_98e7f4be7341row4_col1\" class=\"data row4 col1\" >1969</td>\n",
       "            </tr>\n",
       "            <tr>\n",
       "                        <th id=\"T_16e0ddf4_d94a_11e9_999c_98e7f4be7341level0_row5\" class=\"row_heading level0 row5\" >50%</th>\n",
       "                        <td id=\"T_16e0ddf4_d94a_11e9_999c_98e7f4be7341row5_col0\" class=\"data row5 col0\" >2417</td>\n",
       "                        <td id=\"T_16e0ddf4_d94a_11e9_999c_98e7f4be7341row5_col1\" class=\"data row5 col1\" >2144</td>\n",
       "            </tr>\n",
       "            <tr>\n",
       "                        <th id=\"T_16e0ddf4_d94a_11e9_999c_98e7f4be7341level0_row6\" class=\"row_heading level0 row6\" >75%</th>\n",
       "                        <td id=\"T_16e0ddf4_d94a_11e9_999c_98e7f4be7341row6_col0\" class=\"data row6 col0\" >2925</td>\n",
       "                        <td id=\"T_16e0ddf4_d94a_11e9_999c_98e7f4be7341row6_col1\" class=\"data row6 col1\" >2574</td>\n",
       "            </tr>\n",
       "            <tr>\n",
       "                        <th id=\"T_16e0ddf4_d94a_11e9_999c_98e7f4be7341level0_row7\" class=\"row_heading level0 row7\" >max</th>\n",
       "                        <td id=\"T_16e0ddf4_d94a_11e9_999c_98e7f4be7341row7_col0\" class=\"data row7 col0\" >6278</td>\n",
       "                        <td id=\"T_16e0ddf4_d94a_11e9_999c_98e7f4be7341row7_col1\" class=\"data row7 col1\" >2729</td>\n",
       "            </tr>\n",
       "    </tbody></table>"
      ],
      "text/plain": [
       "<pandas.io.formats.style.Styler at 0x1c6963b2208>"
      ]
     },
     "execution_count": 12,
     "metadata": {},
     "output_type": "execute_result"
    }
   ],
   "source": [
    "df1 = df.groupby('sukup')['palkka'].describe().T\n",
    "\n",
    "df1.columns = sukup\n",
    "\n",
    "df1.style.format('{:.0f}')"
   ]
  },
  {
   "cell_type": "code",
   "execution_count": 13,
   "metadata": {},
   "outputs": [
    {
     "data": {
      "text/html": [
       "<style  type=\"text/css\" >\n",
       "</style><table id=\"T_16f65608_d94a_11e9_898e_98e7f4be7341\" ><thead>    <tr>        <th class=\"blank level0\" ></th>        <th class=\"col_heading level0 col0\" >Peruskoulu</th>        <th class=\"col_heading level0 col1\" >2. aste</th>        <th class=\"col_heading level0 col2\" >Korkeakoulu</th>        <th class=\"col_heading level0 col3\" >Ylempi korkeakoulu</th>    </tr></thead><tbody>\n",
       "                <tr>\n",
       "                        <th id=\"T_16f65608_d94a_11e9_898e_98e7f4be7341level0_row0\" class=\"row_heading level0 row0\" >Mies</th>\n",
       "                        <td id=\"T_16f65608_d94a_11e9_898e_98e7f4be7341row0_col0\" class=\"data row0 col0\" >2354</td>\n",
       "                        <td id=\"T_16f65608_d94a_11e9_898e_98e7f4be7341row0_col1\" class=\"data row0 col1\" >2461</td>\n",
       "                        <td id=\"T_16f65608_d94a_11e9_898e_98e7f4be7341row0_col2\" class=\"data row0 col2\" >3145</td>\n",
       "                        <td id=\"T_16f65608_d94a_11e9_898e_98e7f4be7341row0_col3\" class=\"data row0 col3\" >5147</td>\n",
       "            </tr>\n",
       "            <tr>\n",
       "                        <th id=\"T_16f65608_d94a_11e9_898e_98e7f4be7341level0_row1\" class=\"row_heading level0 row1\" >Nainen</th>\n",
       "                        <td id=\"T_16f65608_d94a_11e9_898e_98e7f4be7341row1_col0\" class=\"data row1 col0\" >2121</td>\n",
       "                        <td id=\"T_16f65608_d94a_11e9_898e_98e7f4be7341row1_col1\" class=\"data row1 col1\" >2211</td>\n",
       "                        <td id=\"T_16f65608_d94a_11e9_898e_98e7f4be7341row1_col2\" class=\"data row1 col2\" >2334</td>\n",
       "                        <td id=\"T_16f65608_d94a_11e9_898e_98e7f4be7341row1_col3\" class=\"data row1 col3\" >nan</td>\n",
       "            </tr>\n",
       "    </tbody></table>"
      ],
      "text/plain": [
       "<pandas.io.formats.style.Styler at 0x1c6963b20b8>"
      ]
     },
     "execution_count": 13,
     "metadata": {},
     "output_type": "execute_result"
    }
   ],
   "source": [
    "df2 = df.pivot_table(values='palkka', index='sukup', columns='koulutus')\n",
    "df2.index = sukup\n",
    "df2.columns = koulutus\n",
    "df2.style.format('{:.0f}')"
   ]
  },
  {
   "cell_type": "code",
   "execution_count": 14,
   "metadata": {},
   "outputs": [
    {
     "data": {
      "text/html": [
       "<style  type=\"text/css\" >\n",
       "</style><table id=\"T_170bc9fe_d94a_11e9_9933_98e7f4be7341\" ><thead>    <tr>        <th class=\"blank\" ></th>        <th class=\"blank level0\" ></th>        <th class=\"col_heading level0 col0\" >Peruskoulu</th>        <th class=\"col_heading level0 col1\" >2. aste</th>        <th class=\"col_heading level0 col2\" >Korkeakoulu</th>        <th class=\"col_heading level0 col3\" >Ylempi korkeakoulu</th>    </tr>    <tr>        <th class=\"index_name level0\" >sukup</th>        <th class=\"index_name level1\" >perhe</th>        <th class=\"blank\" ></th>        <th class=\"blank\" ></th>        <th class=\"blank\" ></th>        <th class=\"blank\" ></th>    </tr></thead><tbody>\n",
       "                <tr>\n",
       "                        <th id=\"T_170bc9fe_d94a_11e9_9933_98e7f4be7341level0_row0\" class=\"row_heading level0 row0\" rowspan=2>Mies</th>\n",
       "                        <th id=\"T_170bc9fe_d94a_11e9_9933_98e7f4be7341level1_row0\" class=\"row_heading level1 row0\" >Perheetön</th>\n",
       "                        <td id=\"T_170bc9fe_d94a_11e9_9933_98e7f4be7341row0_col0\" class=\"data row0 col0\" >2196</td>\n",
       "                        <td id=\"T_170bc9fe_d94a_11e9_9933_98e7f4be7341row0_col1\" class=\"data row0 col1\" >2086</td>\n",
       "                        <td id=\"T_170bc9fe_d94a_11e9_9933_98e7f4be7341row0_col2\" class=\"data row0 col2\" >2730</td>\n",
       "                        <td id=\"T_170bc9fe_d94a_11e9_9933_98e7f4be7341row0_col3\" class=\"data row0 col3\" >5225</td>\n",
       "            </tr>\n",
       "            <tr>\n",
       "                                <th id=\"T_170bc9fe_d94a_11e9_9933_98e7f4be7341level1_row1\" class=\"row_heading level1 row1\" >Perheellinen</th>\n",
       "                        <td id=\"T_170bc9fe_d94a_11e9_9933_98e7f4be7341row1_col0\" class=\"data row1 col0\" >2462</td>\n",
       "                        <td id=\"T_170bc9fe_d94a_11e9_9933_98e7f4be7341row1_col1\" class=\"data row1 col1\" >2871</td>\n",
       "                        <td id=\"T_170bc9fe_d94a_11e9_9933_98e7f4be7341row1_col2\" class=\"data row1 col2\" >3353</td>\n",
       "                        <td id=\"T_170bc9fe_d94a_11e9_9933_98e7f4be7341row1_col3\" class=\"data row1 col3\" >5069</td>\n",
       "            </tr>\n",
       "            <tr>\n",
       "                        <th id=\"T_170bc9fe_d94a_11e9_9933_98e7f4be7341level0_row2\" class=\"row_heading level0 row2\" rowspan=2>Nainen</th>\n",
       "                        <th id=\"T_170bc9fe_d94a_11e9_9933_98e7f4be7341level1_row2\" class=\"row_heading level1 row2\" >Perheetön</th>\n",
       "                        <td id=\"T_170bc9fe_d94a_11e9_9933_98e7f4be7341row2_col0\" class=\"data row2 col0\" >2223</td>\n",
       "                        <td id=\"T_170bc9fe_d94a_11e9_9933_98e7f4be7341row2_col1\" class=\"data row2 col1\" >1715</td>\n",
       "                        <td id=\"T_170bc9fe_d94a_11e9_9933_98e7f4be7341row2_col2\" class=\"data row2 col2\" >1872</td>\n",
       "                        <td id=\"T_170bc9fe_d94a_11e9_9933_98e7f4be7341row2_col3\" class=\"data row2 col3\" >nan</td>\n",
       "            </tr>\n",
       "            <tr>\n",
       "                                <th id=\"T_170bc9fe_d94a_11e9_9933_98e7f4be7341level1_row3\" class=\"row_heading level1 row3\" >Perheellinen</th>\n",
       "                        <td id=\"T_170bc9fe_d94a_11e9_9933_98e7f4be7341row3_col0\" class=\"data row3 col0\" >2096</td>\n",
       "                        <td id=\"T_170bc9fe_d94a_11e9_9933_98e7f4be7341row3_col1\" class=\"data row3 col1\" >2294</td>\n",
       "                        <td id=\"T_170bc9fe_d94a_11e9_9933_98e7f4be7341row3_col2\" class=\"data row3 col2\" >2411</td>\n",
       "                        <td id=\"T_170bc9fe_d94a_11e9_9933_98e7f4be7341row3_col3\" class=\"data row3 col3\" >nan</td>\n",
       "            </tr>\n",
       "    </tbody></table>"
      ],
      "text/plain": [
       "<pandas.io.formats.style.Styler at 0x1c6963b2f60>"
      ]
     },
     "execution_count": 14,
     "metadata": {},
     "output_type": "execute_result"
    }
   ],
   "source": [
    "df3 = df.pivot_table(values='palkka', index=['sukup', 'perhe'],\n",
    "                     columns='koulutus')\n",
    "df3.index = df3.index.set_levels(sukup, level=0)\n",
    "df3.index = df3.index.set_levels(perhe, level=1)\n",
    "\n",
    "df3.columns = koulutus\n",
    "\n",
    "df3.style.format('{:.0f}')"
   ]
  },
  {
   "cell_type": "code",
   "execution_count": 15,
   "metadata": {},
   "outputs": [
    {
     "data": {
      "text/html": [
       "<style  type=\"text/css\" >\n",
       "</style><table id=\"T_171edba4_d94a_11e9_bb55_98e7f4be7341\" ><thead>    <tr>        <th class=\"blank level0\" ></th>        <th class=\"col_heading level0 col0\" >pienin</th>        <th class=\"col_heading level0 col1\" >keskiarvo</th>        <th class=\"col_heading level0 col2\" >mediaani</th>        <th class=\"col_heading level0 col3\" >suurin</th>    </tr></thead><tbody>\n",
       "                <tr>\n",
       "                        <th id=\"T_171edba4_d94a_11e9_bb55_98e7f4be7341level0_row0\" class=\"row_heading level0 row0\" >Peruskoulu</th>\n",
       "                        <td id=\"T_171edba4_d94a_11e9_bb55_98e7f4be7341row0_col0\" class=\"data row0 col0\" >1638</td>\n",
       "                        <td id=\"T_171edba4_d94a_11e9_bb55_98e7f4be7341row0_col1\" class=\"data row0 col1\" >2310</td>\n",
       "                        <td id=\"T_171edba4_d94a_11e9_bb55_98e7f4be7341row0_col2\" class=\"data row0 col2\" >2144</td>\n",
       "                        <td id=\"T_171edba4_d94a_11e9_bb55_98e7f4be7341row0_col3\" class=\"data row0 col3\" >3587</td>\n",
       "            </tr>\n",
       "            <tr>\n",
       "                        <th id=\"T_171edba4_d94a_11e9_bb55_98e7f4be7341level0_row1\" class=\"row_heading level0 row1\" >2. aste</th>\n",
       "                        <td id=\"T_171edba4_d94a_11e9_bb55_98e7f4be7341row1_col0\" class=\"data row1 col0\" >1521</td>\n",
       "                        <td id=\"T_171edba4_d94a_11e9_bb55_98e7f4be7341row1_col1\" class=\"data row1 col1\" >2403</td>\n",
       "                        <td id=\"T_171edba4_d94a_11e9_bb55_98e7f4be7341row1_col2\" class=\"data row1 col2\" >2378</td>\n",
       "                        <td id=\"T_171edba4_d94a_11e9_bb55_98e7f4be7341row1_col3\" class=\"data row1 col3\" >3510</td>\n",
       "            </tr>\n",
       "            <tr>\n",
       "                        <th id=\"T_171edba4_d94a_11e9_bb55_98e7f4be7341level0_row2\" class=\"row_heading level0 row2\" >Korkeakoulu</th>\n",
       "                        <td id=\"T_171edba4_d94a_11e9_bb55_98e7f4be7341row2_col0\" class=\"data row2 col0\" >1559</td>\n",
       "                        <td id=\"T_171edba4_d94a_11e9_bb55_98e7f4be7341row2_col1\" class=\"data row2 col1\" >2887</td>\n",
       "                        <td id=\"T_171edba4_d94a_11e9_bb55_98e7f4be7341row2_col2\" class=\"data row2 col2\" >2710</td>\n",
       "                        <td id=\"T_171edba4_d94a_11e9_bb55_98e7f4be7341row2_col3\" class=\"data row2 col3\" >6278</td>\n",
       "            </tr>\n",
       "            <tr>\n",
       "                        <th id=\"T_171edba4_d94a_11e9_bb55_98e7f4be7341level0_row3\" class=\"row_heading level0 row3\" >Ylempi korkeakoulu</th>\n",
       "                        <td id=\"T_171edba4_d94a_11e9_bb55_98e7f4be7341row3_col0\" class=\"data row3 col0\" >5069</td>\n",
       "                        <td id=\"T_171edba4_d94a_11e9_bb55_98e7f4be7341row3_col1\" class=\"data row3 col1\" >5147</td>\n",
       "                        <td id=\"T_171edba4_d94a_11e9_bb55_98e7f4be7341row3_col2\" class=\"data row3 col2\" >5147</td>\n",
       "                        <td id=\"T_171edba4_d94a_11e9_bb55_98e7f4be7341row3_col3\" class=\"data row3 col3\" >5225</td>\n",
       "            </tr>\n",
       "    </tbody></table>"
      ],
      "text/plain": [
       "<pandas.io.formats.style.Styler at 0x1c6963dbda0>"
      ]
     },
     "execution_count": 15,
     "metadata": {},
     "output_type": "execute_result"
    }
   ],
   "source": [
    "df4 = df.pivot_table(values='palkka', index='koulutus',\n",
    "                     aggfunc=[min, np.mean, np.median, max])\n",
    "df4.index = koulutus\n",
    "df4.columns = ['pienin', 'keskiarvo', 'mediaani', 'suurin']\n",
    "df4.style.format('{:.0f}')"
   ]
  },
  {
   "cell_type": "code",
   "execution_count": 22,
   "metadata": {},
   "outputs": [
    {
     "data": {
      "text/plain": [
       "[Text(0, 0, 'Peruskoulu'),\n",
       " Text(0, 0, '2. aste'),\n",
       " Text(0, 0, 'Korkeakoulu'),\n",
       " Text(0, 0, 'Ylempi korkeakoulu')]"
      ]
     },
     "execution_count": 22,
     "metadata": {},
     "output_type": "execute_result"
    },
    {
     "data": {
      "image/png": "[encoded data removed]",
      "text/plain": [
       "<Figure size 432x288 with 1 Axes>"
      ]
     },
     "metadata": {
      "needs_background": "light"
     },
     "output_type": "display_data"
    }
   ],
   "source": [
    "ax1 = df.boxplot('palkka', by='koulutus')\n",
    "\n",
    "ax1.get_figure().suptitle('')\n",
    "ax1.set_title('Palkkavertailu')\n",
    "ax1.set_xlabel('Koulutus')\n",
    "ax1.set_ylabel('Palkka')\n",
    "ax1.set_xticklabels(koulutus)\n",
    "\n",
    "ax1.get_figure().suptitle('')\n",
    "ax1.set_title('Palkkavertailu')\n",
    "ax1.set_xlabel('Koulutus')\n",
    "ax1.set_ylabel('Palkka')\n",
    "ax1.set_xticklabels(koulutus)"
   ]
  },
  {
   "cell_type": "code",
   "execution_count": 23,
   "metadata": {},
   "outputs": [
    {
     "data": {
      "text/html": [
       "<style  type=\"text/css\" >\n",
       "</style><table id=\"T_4ca06928_d94c_11e9_b382_98e7f4be7341\" ><thead>    <tr>        <th class=\"blank level0\" ></th>        <th class=\"col_heading level0 col0\" >ikä</th>        <th class=\"col_heading level0 col1\" >palveluv</th>        <th class=\"col_heading level0 col2\" >palkka</th>    </tr></thead><tbody>\n",
       "                <tr>\n",
       "                        <th id=\"T_4ca06928_d94c_11e9_b382_98e7f4be7341level0_row0\" class=\"row_heading level0 row0\" >ikä</th>\n",
       "                        <td id=\"T_4ca06928_d94c_11e9_b382_98e7f4be7341row0_col0\" class=\"data row0 col0\" >1.00</td>\n",
       "                        <td id=\"T_4ca06928_d94c_11e9_b382_98e7f4be7341row0_col1\" class=\"data row0 col1\" >0.53</td>\n",
       "                        <td id=\"T_4ca06928_d94c_11e9_b382_98e7f4be7341row0_col2\" class=\"data row0 col2\" >0.30</td>\n",
       "            </tr>\n",
       "            <tr>\n",
       "                        <th id=\"T_4ca06928_d94c_11e9_b382_98e7f4be7341level0_row1\" class=\"row_heading level0 row1\" >palveluv</th>\n",
       "                        <td id=\"T_4ca06928_d94c_11e9_b382_98e7f4be7341row1_col0\" class=\"data row1 col0\" >0.53</td>\n",
       "                        <td id=\"T_4ca06928_d94c_11e9_b382_98e7f4be7341row1_col1\" class=\"data row1 col1\" >1.00</td>\n",
       "                        <td id=\"T_4ca06928_d94c_11e9_b382_98e7f4be7341row1_col2\" class=\"data row1 col2\" >0.24</td>\n",
       "            </tr>\n",
       "            <tr>\n",
       "                        <th id=\"T_4ca06928_d94c_11e9_b382_98e7f4be7341level0_row2\" class=\"row_heading level0 row2\" >palkka</th>\n",
       "                        <td id=\"T_4ca06928_d94c_11e9_b382_98e7f4be7341row2_col0\" class=\"data row2 col0\" >0.30</td>\n",
       "                        <td id=\"T_4ca06928_d94c_11e9_b382_98e7f4be7341row2_col1\" class=\"data row2 col1\" >0.24</td>\n",
       "                        <td id=\"T_4ca06928_d94c_11e9_b382_98e7f4be7341row2_col2\" class=\"data row2 col2\" >1.00</td>\n",
       "            </tr>\n",
       "    </tbody></table>"
      ],
      "text/plain": [
       "<pandas.io.formats.style.Styler at 0x1c695d502b0>"
      ]
     },
     "execution_count": 23,
     "metadata": {},
     "output_type": "execute_result"
    }
   ],
   "source": [
    "df[['ikä', 'palveluv', 'palkka']].corr().style.format('{:.2f}')"
   ]
  },
  {
   "cell_type": "code",
   "execution_count": 24,
   "metadata": {},
   "outputs": [
    {
     "data": {
      "text/plain": [
       "<matplotlib.axes._subplots.AxesSubplot at 0x1c69646fd68>"
      ]
     },
     "execution_count": 24,
     "metadata": {},
     "output_type": "execute_result"
    },
    {
     "data": {
      "image/png": "[encoded data removed]",
      "text/plain": [
       "<Figure size 432x288 with 1 Axes>"
      ]
     },
     "metadata": {
      "needs_background": "light"
     },
     "output_type": "display_data"
    }
   ],
   "source": [
    "df.plot.scatter('ikä', 'palkka')"
   ]
  },
  {
   "cell_type": "code",
   "execution_count": 25,
   "metadata": {},
   "outputs": [
    {
     "data": {
      "text/html": [
       "<div>\n",
       "<style scoped>\n",
       "    .dataframe tbody tr th:only-of-type {\n",
       "        vertical-align: middle;\n",
       "    }\n",
       "\n",
       "    .dataframe tbody tr th {\n",
       "        vertical-align: top;\n",
       "    }\n",
       "\n",
       "    .dataframe thead th {\n",
       "        text-align: right;\n",
       "    }\n",
       "</style>\n",
       "<table border=\"1\" class=\"dataframe\">\n",
       "  <thead>\n",
       "    <tr style=\"text-align: right;\">\n",
       "      <th></th>\n",
       "      <th>koehenkilö</th>\n",
       "      <th>verbaalinen</th>\n",
       "      <th>looginen</th>\n",
       "      <th>kielet</th>\n",
       "      <th>matematiikka</th>\n",
       "      <th>opintomenestys</th>\n",
       "      <th>sukupuoli</th>\n",
       "    </tr>\n",
       "  </thead>\n",
       "  <tbody>\n",
       "    <tr>\n",
       "      <th>0</th>\n",
       "      <td>2</td>\n",
       "      <td>26</td>\n",
       "      <td>32</td>\n",
       "      <td>8.2</td>\n",
       "      <td>7</td>\n",
       "      <td>16</td>\n",
       "      <td>Nainen</td>\n",
       "    </tr>\n",
       "    <tr>\n",
       "      <th>1</th>\n",
       "      <td>3</td>\n",
       "      <td>29</td>\n",
       "      <td>33</td>\n",
       "      <td>9.6</td>\n",
       "      <td>5</td>\n",
       "      <td>17</td>\n",
       "      <td>Nainen</td>\n",
       "    </tr>\n",
       "    <tr>\n",
       "      <th>2</th>\n",
       "      <td>6</td>\n",
       "      <td>28</td>\n",
       "      <td>36</td>\n",
       "      <td>9.2</td>\n",
       "      <td>7</td>\n",
       "      <td>19</td>\n",
       "      <td>Nainen</td>\n",
       "    </tr>\n",
       "    <tr>\n",
       "      <th>3</th>\n",
       "      <td>7</td>\n",
       "      <td>23</td>\n",
       "      <td>34</td>\n",
       "      <td>7.2</td>\n",
       "      <td>7</td>\n",
       "      <td>14</td>\n",
       "      <td>Nainen</td>\n",
       "    </tr>\n",
       "    <tr>\n",
       "      <th>4</th>\n",
       "      <td>10</td>\n",
       "      <td>29</td>\n",
       "      <td>34</td>\n",
       "      <td>9.7</td>\n",
       "      <td>8</td>\n",
       "      <td>19</td>\n",
       "      <td>Nainen</td>\n",
       "    </tr>\n",
       "  </tbody>\n",
       "</table>\n",
       "</div>"
      ],
      "text/plain": [
       "   koehenkilö  verbaalinen  looginen  kielet  matematiikka  opintomenestys  \\\n",
       "0           2           26        32     8.2             7              16   \n",
       "1           3           29        33     9.6             5              17   \n",
       "2           6           28        36     9.2             7              19   \n",
       "3           7           23        34     7.2             7              14   \n",
       "4          10           29        34     9.7             8              19   \n",
       "\n",
       "  sukupuoli  \n",
       "0    Nainen  \n",
       "1    Nainen  \n",
       "2    Nainen  \n",
       "3    Nainen  \n",
       "4    Nainen  "
      ]
     },
     "execution_count": 25,
     "metadata": {},
     "output_type": "execute_result"
    }
   ],
   "source": [
    "opintomenestys = pd.read_excel('http://taanila.fi/opintomenestys.xlsx')\n",
    "opintomenestys.head()"
   ]
  },
  {
   "cell_type": "code",
   "execution_count": 26,
   "metadata": {},
   "outputs": [
    {
     "data": {
      "text/plain": [
       "<seaborn.axisgrid.PairGrid at 0x1c696011ba8>"
      ]
     },
     "execution_count": 26,
     "metadata": {},
     "output_type": "execute_result"
    },
    {
     "data": {
      "image/png": "[encoded data removed]",
      "text/plain": [
       "<Figure size 900x900 with 30 Axes>"
      ]
     },
     "metadata": {
      "needs_background": "light"
     },
     "output_type": "display_data"
    }
   ],
   "source": [
    "sns.pairplot(opintomenestys.drop('koehenkilö', axis=1), kind='reg')"
   ]
  },
  {
   "cell_type": "code",
   "execution_count": null,
   "metadata": {},
   "outputs": [],
   "source": []
  }
 ],
 "metadata": {
  "kernelspec": {
   "display_name": "Python 3",
   "language": "python",
   "name": "python3"
  },
  "language_info": {
   "codemirror_mode": {
    "name": "ipython",
    "version": 3
   },
   "file_extension": ".py",
   "mimetype": "text/x-python",
   "name": "python",
   "nbconvert_exporter": "python",
   "pygments_lexer": "ipython3",
   "version": "3.7.3"
  }
 },
 "nbformat": 4,
 "nbformat_minor": 2
}
